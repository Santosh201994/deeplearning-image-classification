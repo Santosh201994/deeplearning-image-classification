{
  "metadata": {
    "kernelspec": {
      "language": "python",
      "display_name": "Python 3",
      "name": "python3"
    },
    "language_info": {
      "pygments_lexer": "ipython3",
      "nbconvert_exporter": "python",
      "version": "3.6.4",
      "file_extension": ".py",
      "codemirror_mode": {
        "name": "ipython",
        "version": 3
      },
      "name": "python",
      "mimetype": "text/x-python"
    },
    "colab": {
      "name": "Fruit and Vegetable Classification",
      "provenance": [],
      "include_colab_link": true
    }
  },
  "nbformat_minor": 0,
  "nbformat": 4,
  "cells": [
    {
      "cell_type": "markdown",
      "metadata": {
        "id": "view-in-github",
        "colab_type": "text"
      },
      "source": [
        "<a href=\"https://colab.research.google.com/github/Santosh201994/deeplearning-image-classification/blob/main/Fruit_and_Vegetable_Classification.ipynb\" target=\"_parent\"><img src=\"https://colab.research.google.com/assets/colab-badge.svg\" alt=\"Open In Colab\"/></a>"
      ]
    },
    {
      "source": [
        "\n",
        "# IMPORTANT: RUN THIS CELL IN ORDER TO IMPORT YOUR KAGGLE DATA SOURCES\n",
        "# TO THE CORRECT LOCATION (/kaggle/input) IN YOUR NOTEBOOK,\n",
        "# THEN FEEL FREE TO DELETE THIS CELL.\n",
        "# NOTE: THIS NOTEBOOK ENVIRONMENT DIFFERS FROM KAGGLE'S PYTHON\n",
        "# ENVIRONMENT SO THERE MAY BE MISSING LIBRARIES USED BY YOUR\n",
        "# NOTEBOOK.\n",
        "\n",
        "import os\n",
        "import sys\n",
        "from tempfile import NamedTemporaryFile\n",
        "from urllib.request import urlopen\n",
        "from urllib.parse import unquote, urlparse\n",
        "from urllib.error import HTTPError\n",
        "from zipfile import ZipFile\n",
        "import tarfile\n",
        "import shutil\n",
        "\n",
        "CHUNK_SIZE = 40960\n",
        "DATA_SOURCE_MAPPING = 'fruit-and-vegetable-image-recognition:https%3A%2F%2Fstorage.googleapis.com%2Fkaggle-data-sets%2F952827%2F3173719%2Fbundle%2Farchive.zip%3FX-Goog-Algorithm%3DGOOG4-RSA-SHA256%26X-Goog-Credential%3Dgcp-kaggle-com%2540kaggle-161607.iam.gserviceaccount.com%252F20240521%252Fauto%252Fstorage%252Fgoog4_request%26X-Goog-Date%3D20240521T183143Z%26X-Goog-Expires%3D259200%26X-Goog-SignedHeaders%3Dhost%26X-Goog-Signature%3D789a3e09952a3a1ead9a55b03b7f4e75bcc7184cbe555f4758cbee76554ec12c388c241b7160e54d3e62f5309110dd1a2df869c7b3519f406c9263347d90e377f667794a63ea5e121290fdd65393f836b3c6e9b4f87de2acf4faefa84f6ee37d965d34e3fd912fd5e74c1829e1c80302fc9ce0d8b45c2ac160e99a4528ab14e785e2ace61d548363f996b973422f0941e6f6518cc24629a478d8b61a7785941bfc682de3155a0d10b65e886305e4f5b16ae37780d24f7d24f6a354631d932b9bfb7f1172407e3854cd7cd25aef7632790bf4fedc89ef5d75e4acbc8124ebbae32ff0285fe5b745fe16de1f17d656fd07446f0d8e50eb1a7f025fb6ac3c1f0ad0'\n",
        "\n",
        "KAGGLE_INPUT_PATH='/kaggle/input'\n",
        "KAGGLE_WORKING_PATH='/kaggle/working'\n",
        "KAGGLE_SYMLINK='kaggle'\n",
        "\n",
        "!umount /kaggle/input/ 2> /dev/null\n",
        "shutil.rmtree('/kaggle/input', ignore_errors=True)\n",
        "os.makedirs(KAGGLE_INPUT_PATH, 0o777, exist_ok=True)\n",
        "os.makedirs(KAGGLE_WORKING_PATH, 0o777, exist_ok=True)\n",
        "\n",
        "try:\n",
        "  os.symlink(KAGGLE_INPUT_PATH, os.path.join(\"..\", 'input'), target_is_directory=True)\n",
        "except FileExistsError:\n",
        "  pass\n",
        "try:\n",
        "  os.symlink(KAGGLE_WORKING_PATH, os.path.join(\"..\", 'working'), target_is_directory=True)\n",
        "except FileExistsError:\n",
        "  pass\n",
        "\n",
        "for data_source_mapping in DATA_SOURCE_MAPPING.split(','):\n",
        "    directory, download_url_encoded = data_source_mapping.split(':')\n",
        "    download_url = unquote(download_url_encoded)\n",
        "    filename = urlparse(download_url).path\n",
        "    destination_path = os.path.join(KAGGLE_INPUT_PATH, directory)\n",
        "    try:\n",
        "        with urlopen(download_url) as fileres, NamedTemporaryFile() as tfile:\n",
        "            total_length = fileres.headers['content-length']\n",
        "            print(f'Downloading {directory}, {total_length} bytes compressed')\n",
        "            dl = 0\n",
        "            data = fileres.read(CHUNK_SIZE)\n",
        "            while len(data) > 0:\n",
        "                dl += len(data)\n",
        "                tfile.write(data)\n",
        "                done = int(50 * dl / int(total_length))\n",
        "                sys.stdout.write(f\"\\r[{'=' * done}{' ' * (50-done)}] {dl} bytes downloaded\")\n",
        "                sys.stdout.flush()\n",
        "                data = fileres.read(CHUNK_SIZE)\n",
        "            if filename.endswith('.zip'):\n",
        "              with ZipFile(tfile) as zfile:\n",
        "                zfile.extractall(destination_path)\n",
        "            else:\n",
        "              with tarfile.open(tfile.name) as tarfile:\n",
        "                tarfile.extractall(destination_path)\n",
        "            print(f'\\nDownloaded and uncompressed: {directory}')\n",
        "    except HTTPError as e:\n",
        "        print(f'Failed to load (likely expired) {download_url} to path {destination_path}')\n",
        "        continue\n",
        "    except OSError as e:\n",
        "        print(f'Failed to load {download_url} to path {destination_path}')\n",
        "        continue\n",
        "\n",
        "print('Data source import complete.')\n"
      ],
      "metadata": {
        "id": "DfiBX8wAbHFJ"
      },
      "cell_type": "code",
      "outputs": [],
      "execution_count": null
    },
    {
      "cell_type": "markdown",
      "source": [
        "# Fruit and Vegetable Classification\n",
        "\n",
        "\n",
        "Having 3861 images of 36 different fruits/vegetables\n",
        "\n",
        "![fruit vegetable](https://cdn.pixabay.com/photo/2018/04/09/18/23/fruit-3304977_1280.jpg)"
      ],
      "metadata": {
        "id": "6Y-5ApLRbHFQ"
      }
    },
    {
      "cell_type": "markdown",
      "source": [
        "<h1>Table of contents</h1>\n",
        "\n",
        "\n",
        "<ul>\n",
        "<li><a href=\"#1\"><strong>1. Loading and preprocessing</strong></a>\n",
        "</ul>\n",
        "    \n",
        "<ul>\n",
        "<li><a href=\"#2\"><strong>2. Load the Images with a generator and Data Augmentation</strong></a>\n",
        "</ul>\n",
        "\n",
        "<ul>\n",
        "<li><a href=\"#3\"><strong>3. Train the model</strong></a>\n",
        "</ul>\n",
        "\n",
        "<ul>\n",
        "<li><a href=\"#4\"><strong>4. Visualize the result</strong></a>\n",
        "</ul>\n",
        "\n",
        "<ul>\n",
        "<li><a href=\"#5\"><strong>5. Class activation heatmap for image classification</strong></a>\n",
        "</ul>\n",
        "\n",
        "<ul>\n",
        "<li><a href=\"#6\"><strong>6. Deploy the model</strong></a>\n",
        "</ul>\n",
        "\n",
        "# Context\n",
        "\n",
        "This dataset contains images of the following food items:\n",
        "\n",
        "- **fruits**: banana, apple, pear, grapes, orange, kiwi, watermelon, pomegranate, pineapple, mango\n",
        "- **vegetables**: cucumber, carrot, capsicum, onion, potato, lemon, tomato, raddish, beetroot, cabbage, lettuce, spinach, soy bean, cauliflower, bell pepper, chilli pepper, turnip, corn, sweetcorn, sweet potato, paprika, jalepeño, ginger, garlic, peas, eggplant\n",
        "\n",
        "\n",
        "# Content\n",
        "This dataset contains three folders:\n",
        "\n",
        "- train (100 images each)\n",
        "- test (10 images each)\n",
        "- validation (10 images each)\n",
        "each of the above folders contains subfolders for different fruits and vegetables wherein the images for respective food items are present\n"
      ],
      "metadata": {
        "id": "Ij1oIivhbHFV"
      }
    },
    {
      "cell_type": "markdown",
      "source": [
        "# 1. Loading and preprocessing<a class=\"anchor\" id=\"1\"></a><a class=\"anchor\" id=\"1\"></a>"
      ],
      "metadata": {
        "id": "vsX9iCEVbHFW"
      }
    },
    {
      "cell_type": "code",
      "source": [
        "import numpy as np\n",
        "import pandas as pd\n",
        "from pathlib import Path\n",
        "import os.path\n",
        "import matplotlib.pyplot as plt\n",
        "import tensorflow as tf\n",
        "\n",
        "# Create a list with the filepaths for training and testing\n",
        "train_dir = Path('../input/fruit-and-vegetable-image-recognition/train')\n",
        "train_filepaths = list(train_dir.glob(r'**/*.jpg'))\n",
        "\n",
        "test_dir = Path('../input/fruit-and-vegetable-image-recognition/test')\n",
        "test_filepaths = list(test_dir.glob(r'**/*.jpg'))\n",
        "\n",
        "val_dir = Path('../input/fruit-and-vegetable-image-recognition/validation')\n",
        "val_filepaths = list(test_dir.glob(r'**/*.jpg'))\n",
        "\n",
        "def proc_img(filepath):\n",
        "    \"\"\" Create a DataFrame with the filepath and the labels of the pictures\n",
        "    \"\"\"\n",
        "\n",
        "    labels = [str(filepath[i]).split(\"/\")[-2] \\\n",
        "              for i in range(len(filepath))]\n",
        "\n",
        "    filepath = pd.Series(filepath, name='Filepath').astype(str)\n",
        "    labels = pd.Series(labels, name='Label')\n",
        "\n",
        "    # Concatenate filepaths and labels\n",
        "    df = pd.concat([filepath, labels], axis=1)\n",
        "\n",
        "    # Shuffle the DataFrame and reset index\n",
        "    df = df.sample(frac=1).reset_index(drop = True)\n",
        "\n",
        "    return df\n",
        "\n",
        "train_df = proc_img(train_filepaths)\n",
        "test_df = proc_img(test_filepaths)\n",
        "val_df = proc_img(val_filepaths)"
      ],
      "metadata": {
        "execution": {
          "iopub.status.busy": "2022-10-19T02:48:26.335367Z",
          "iopub.execute_input": "2022-10-19T02:48:26.335734Z",
          "iopub.status.idle": "2022-10-19T02:48:26.487675Z",
          "shell.execute_reply.started": "2022-10-19T02:48:26.335698Z",
          "shell.execute_reply": "2022-10-19T02:48:26.486847Z"
        },
        "trusted": true,
        "id": "4MIC2dS2bHFX"
      },
      "execution_count": null,
      "outputs": []
    },
    {
      "cell_type": "code",
      "source": [
        "print('-- Training set --\\n')\n",
        "print(f'Number of pictures: {train_df.shape[0]}\\n')\n",
        "print(f'Number of different labels: {len(train_df.Label.unique())}\\n')\n",
        "print(f'Labels: {train_df.Label.unique()}')"
      ],
      "metadata": {
        "execution": {
          "iopub.status.busy": "2022-10-19T02:48:26.489141Z",
          "iopub.execute_input": "2022-10-19T02:48:26.489753Z",
          "iopub.status.idle": "2022-10-19T02:48:26.4982Z",
          "shell.execute_reply.started": "2022-10-19T02:48:26.489709Z",
          "shell.execute_reply": "2022-10-19T02:48:26.497429Z"
        },
        "trusted": true,
        "id": "-dj8FLENbHFY"
      },
      "execution_count": null,
      "outputs": []
    },
    {
      "cell_type": "code",
      "source": [
        "# The DataFrame with the filepaths in one column and the labels in the other one\n",
        "train_df.head(5)"
      ],
      "metadata": {
        "execution": {
          "iopub.status.busy": "2022-10-19T02:48:26.501102Z",
          "iopub.execute_input": "2022-10-19T02:48:26.502359Z",
          "iopub.status.idle": "2022-10-19T02:48:26.511375Z",
          "shell.execute_reply.started": "2022-10-19T02:48:26.502324Z",
          "shell.execute_reply": "2022-10-19T02:48:26.51043Z"
        },
        "trusted": true,
        "id": "EVMG8uUGbHFZ"
      },
      "execution_count": null,
      "outputs": []
    },
    {
      "cell_type": "code",
      "source": [
        "# Create a DataFrame with one Label of each category\n",
        "df_unique = train_df.copy().drop_duplicates(subset=[\"Label\"]).reset_index()\n",
        "\n",
        "# Display some pictures of the dataset\n",
        "fig, axes = plt.subplots(nrows=6, ncols=6, figsize=(8, 7),\n",
        "                        subplot_kw={'xticks': [], 'yticks': []})\n",
        "\n",
        "for i, ax in enumerate(axes.flat):\n",
        "    ax.imshow(plt.imread(df_unique.Filepath[i]))\n",
        "    ax.set_title(df_unique.Label[i], fontsize = 12)\n",
        "plt.tight_layout(pad=0.5)\n",
        "plt.show()"
      ],
      "metadata": {
        "execution": {
          "iopub.status.busy": "2022-10-19T02:48:26.513132Z",
          "iopub.execute_input": "2022-10-19T02:48:26.513723Z",
          "iopub.status.idle": "2022-10-19T02:48:34.052561Z",
          "shell.execute_reply.started": "2022-10-19T02:48:26.513686Z",
          "shell.execute_reply": "2022-10-19T02:48:34.051632Z"
        },
        "trusted": true,
        "id": "dDWXuyj2bHFa"
      },
      "execution_count": null,
      "outputs": []
    },
    {
      "cell_type": "markdown",
      "source": [
        "# 2. Load the Images with a generator and Data Augmentation<a class=\"anchor\" id=\"2\"></a>"
      ],
      "metadata": {
        "id": "MWiUzDDObHFa"
      }
    },
    {
      "cell_type": "code",
      "source": [
        "train_generator = tf.keras.preprocessing.image.ImageDataGenerator(\n",
        "    preprocessing_function=tf.keras.applications.mobilenet_v2.preprocess_input\n",
        ")\n",
        "\n",
        "test_generator = tf.keras.preprocessing.image.ImageDataGenerator(\n",
        "    preprocessing_function=tf.keras.applications.mobilenet_v2.preprocess_input\n",
        ")\n",
        "\n",
        "train_images = train_generator.flow_from_dataframe(\n",
        "    dataframe=train_df,\n",
        "    x_col='Filepath',\n",
        "    y_col='Label',\n",
        "    target_size=(224, 224),\n",
        "    color_mode='rgb',\n",
        "    class_mode='categorical',\n",
        "    batch_size=32,\n",
        "    shuffle=True,\n",
        "    seed=0,\n",
        "    rotation_range=30,\n",
        "    zoom_range=0.15,\n",
        "    width_shift_range=0.2,\n",
        "    height_shift_range=0.2,\n",
        "    shear_range=0.15,\n",
        "    horizontal_flip=True,\n",
        "    fill_mode=\"nearest\"\n",
        ")\n",
        "\n",
        "val_images = train_generator.flow_from_dataframe(\n",
        "    dataframe=val_df,\n",
        "    x_col='Filepath',\n",
        "    y_col='Label',\n",
        "    target_size=(224, 224),\n",
        "    color_mode='rgb',\n",
        "    class_mode='categorical',\n",
        "    batch_size=32,\n",
        "    shuffle=True,\n",
        "    seed=0,\n",
        "    rotation_range=30,\n",
        "    zoom_range=0.15,\n",
        "    width_shift_range=0.2,\n",
        "    height_shift_range=0.2,\n",
        "    shear_range=0.15,\n",
        "    horizontal_flip=True,\n",
        "    fill_mode=\"nearest\"\n",
        ")\n",
        "\n",
        "test_images = test_generator.flow_from_dataframe(\n",
        "    dataframe=test_df,\n",
        "    x_col='Filepath',\n",
        "    y_col='Label',\n",
        "    target_size=(224, 224),\n",
        "    color_mode='rgb',\n",
        "    class_mode='categorical',\n",
        "    batch_size=32,\n",
        "    shuffle=False\n",
        ")"
      ],
      "metadata": {
        "execution": {
          "iopub.status.busy": "2022-10-19T02:48:34.053923Z",
          "iopub.execute_input": "2022-10-19T02:48:34.05434Z",
          "iopub.status.idle": "2022-10-19T02:48:35.404094Z",
          "shell.execute_reply.started": "2022-10-19T02:48:34.054302Z",
          "shell.execute_reply": "2022-10-19T02:48:35.403286Z"
        },
        "trusted": true,
        "id": "T3x32Ea6bHFb"
      },
      "execution_count": null,
      "outputs": []
    },
    {
      "cell_type": "code",
      "source": [
        "# Load the pretained model\n",
        "pretrained_model = tf.keras.applications.MobileNetV2(\n",
        "    input_shape=(224, 224, 3),\n",
        "    include_top=False,\n",
        "    weights='imagenet',\n",
        "    pooling='avg'\n",
        ")\n",
        "pretrained_model.trainable = False"
      ],
      "metadata": {
        "_kg_hide-output": true,
        "execution": {
          "iopub.status.busy": "2022-10-19T02:48:35.405385Z",
          "iopub.execute_input": "2022-10-19T02:48:35.405739Z",
          "iopub.status.idle": "2022-10-19T02:48:38.927737Z",
          "shell.execute_reply.started": "2022-10-19T02:48:35.405702Z",
          "shell.execute_reply": "2022-10-19T02:48:38.926885Z"
        },
        "trusted": true,
        "id": "htD7cAL0bHFd"
      },
      "execution_count": null,
      "outputs": []
    },
    {
      "cell_type": "markdown",
      "source": [
        "# 3. Train the model<a class=\"anchor\" id=\"3\"></a>"
      ],
      "metadata": {
        "id": "5Be5bA3QbHFd"
      }
    },
    {
      "cell_type": "code",
      "source": [
        "inputs = pretrained_model.input\n",
        "\n",
        "x = tf.keras.layers.Dense(128, activation='relu')(pretrained_model.output)\n",
        "x = tf.keras.layers.Dense(128, activation='relu')(x)\n",
        "\n",
        "outputs = tf.keras.layers.Dense(36, activation='softmax')(x)\n",
        "\n",
        "model = tf.keras.Model(inputs=inputs, outputs=outputs)\n",
        "\n",
        "model.compile(\n",
        "    optimizer='adam',\n",
        "    loss='categorical_crossentropy',\n",
        "    metrics=['accuracy']\n",
        ")\n",
        "\n",
        "history = model.fit(\n",
        "    train_images,\n",
        "    validation_data=val_images,\n",
        "    batch_size = 32,\n",
        "    epochs=5,\n",
        "    callbacks=[\n",
        "        tf.keras.callbacks.EarlyStopping(\n",
        "            monitor='val_loss',\n",
        "            patience=2,\n",
        "            restore_best_weights=True\n",
        "        )\n",
        "    ]\n",
        ")"
      ],
      "metadata": {
        "_kg_hide-output": true,
        "execution": {
          "iopub.status.busy": "2022-10-19T02:48:38.92899Z",
          "iopub.execute_input": "2022-10-19T02:48:38.929329Z",
          "iopub.status.idle": "2022-10-19T02:59:03.463723Z",
          "shell.execute_reply.started": "2022-10-19T02:48:38.929295Z",
          "shell.execute_reply": "2022-10-19T02:59:03.462798Z"
        },
        "trusted": true,
        "id": "4pvuiRngbHFe"
      },
      "execution_count": null,
      "outputs": []
    },
    {
      "cell_type": "code",
      "source": [
        "pd.DataFrame(history.history)[['accuracy','val_accuracy']].plot()\n",
        "plt.title(\"Accuracy\")\n",
        "plt.show()"
      ],
      "metadata": {
        "execution": {
          "iopub.status.busy": "2022-10-19T02:59:03.467022Z",
          "iopub.execute_input": "2022-10-19T02:59:03.467313Z",
          "iopub.status.idle": "2022-10-19T02:59:03.638854Z",
          "shell.execute_reply.started": "2022-10-19T02:59:03.467279Z",
          "shell.execute_reply": "2022-10-19T02:59:03.637808Z"
        },
        "trusted": true,
        "id": "jhEixMtfbHFf"
      },
      "execution_count": null,
      "outputs": []
    },
    {
      "cell_type": "code",
      "source": [
        "pd.DataFrame(history.history)[['loss','val_loss']].plot()\n",
        "plt.title(\"Loss\")\n",
        "plt.show()"
      ],
      "metadata": {
        "execution": {
          "iopub.status.busy": "2022-10-19T02:59:03.64059Z",
          "iopub.execute_input": "2022-10-19T02:59:03.641099Z",
          "iopub.status.idle": "2022-10-19T02:59:03.794027Z",
          "shell.execute_reply.started": "2022-10-19T02:59:03.64106Z",
          "shell.execute_reply": "2022-10-19T02:59:03.793082Z"
        },
        "trusted": true,
        "id": "MrIbBCJnbHFf"
      },
      "execution_count": null,
      "outputs": []
    },
    {
      "cell_type": "markdown",
      "source": [
        "# 4. Visualize the result<a class=\"anchor\" id=\"4\"></a>"
      ],
      "metadata": {
        "id": "hyi2IMFfbHFg"
      }
    },
    {
      "cell_type": "code",
      "source": [],
      "metadata": {
        "trusted": true,
        "id": "851Guu02bHFg"
      },
      "execution_count": null,
      "outputs": []
    },
    {
      "cell_type": "code",
      "source": [
        "# Predict the label of the test_images\n",
        "pred = model.predict(test_images)\n",
        "pred = np.argmax(pred,axis=1)\n",
        "\n",
        "# Map the label\n",
        "labels = (train_images.class_indices)\n",
        "labels = dict((v,k) for k,v in labels.items())\n",
        "pred = [labels[k] for k in pred]\n",
        "\n",
        "y_test = [labels[k] for k in test_images.classes]"
      ],
      "metadata": {
        "_kg_hide-output": true,
        "execution": {
          "iopub.status.busy": "2022-10-19T03:05:32.79776Z",
          "iopub.execute_input": "2022-10-19T03:05:32.798111Z",
          "iopub.status.idle": "2022-10-19T03:05:51.242151Z",
          "shell.execute_reply.started": "2022-10-19T03:05:32.79808Z",
          "shell.execute_reply": "2022-10-19T03:05:51.241271Z"
        },
        "trusted": true,
        "id": "HoZmDKibbHFh"
      },
      "execution_count": null,
      "outputs": []
    },
    {
      "cell_type": "code",
      "source": [
        "labels.items()"
      ],
      "metadata": {
        "execution": {
          "iopub.status.busy": "2022-10-19T03:05:54.058478Z",
          "iopub.execute_input": "2022-10-19T03:05:54.058858Z",
          "iopub.status.idle": "2022-10-19T03:05:54.064893Z",
          "shell.execute_reply.started": "2022-10-19T03:05:54.058825Z",
          "shell.execute_reply": "2022-10-19T03:05:54.063822Z"
        },
        "trusted": true,
        "id": "SJqPb6DZbHFi"
      },
      "execution_count": null,
      "outputs": []
    },
    {
      "cell_type": "code",
      "source": [
        "from sklearn.metrics import accuracy_score\n",
        "acc = accuracy_score(y_test, pred)\n",
        "print(f'Accuracy on the test set: {100*acc:.2f}%')"
      ],
      "metadata": {
        "execution": {
          "iopub.status.busy": "2022-10-19T03:06:01.751859Z",
          "iopub.execute_input": "2022-10-19T03:06:01.752181Z",
          "iopub.status.idle": "2022-10-19T03:06:02.269974Z",
          "shell.execute_reply.started": "2022-10-19T03:06:01.752149Z",
          "shell.execute_reply": "2022-10-19T03:06:02.269075Z"
        },
        "trusted": true,
        "id": "SAxWjXKZbHFi"
      },
      "execution_count": null,
      "outputs": []
    },
    {
      "cell_type": "code",
      "source": [
        "from sklearn.metrics import confusion_matrix\n",
        "import seaborn as sns\n",
        "\n",
        "cf_matrix = confusion_matrix(y_test, pred, normalize='true')\n",
        "plt.figure(figsize = (15,10))\n",
        "sns.heatmap(cf_matrix,\n",
        "            annot=True,\n",
        "            xticklabels = sorted(set(y_test)),\n",
        "            yticklabels = sorted(set(y_test)),\n",
        "            )\n",
        "plt.title('Normalized Confusion Matrix')\n",
        "plt.show()"
      ],
      "metadata": {
        "execution": {
          "iopub.status.busy": "2022-10-19T03:06:02.271598Z",
          "iopub.execute_input": "2022-10-19T03:06:02.272163Z",
          "iopub.status.idle": "2022-10-19T03:06:06.44453Z",
          "shell.execute_reply.started": "2022-10-19T03:06:02.272125Z",
          "shell.execute_reply": "2022-10-19T03:06:06.443637Z"
        },
        "trusted": true,
        "id": "Api-DI43bHFj"
      },
      "execution_count": null,
      "outputs": []
    },
    {
      "cell_type": "code",
      "source": [
        "# Display some pictures of the dataset with their labels and the predictions\n",
        "fig, axes = plt.subplots(nrows=3, ncols=3, figsize=(15, 15),\n",
        "                        subplot_kw={'xticks': [], 'yticks': []})\n",
        "\n",
        "for i, ax in enumerate(axes.flat):\n",
        "    ax.imshow(plt.imread(test_df.Filepath.iloc[i]))\n",
        "    ax.set_title(f\"True: {test_df.Label.iloc[i]}\\nPredicted: {pred[i]}\")\n",
        "plt.tight_layout()\n",
        "plt.show()"
      ],
      "metadata": {
        "execution": {
          "iopub.status.busy": "2022-10-19T03:06:06.446258Z",
          "iopub.execute_input": "2022-10-19T03:06:06.446795Z",
          "iopub.status.idle": "2022-10-19T03:06:10.953921Z",
          "shell.execute_reply.started": "2022-10-19T03:06:06.446755Z",
          "shell.execute_reply": "2022-10-19T03:06:10.94967Z"
        },
        "trusted": true,
        "id": "b2Rsj71pbHFj"
      },
      "execution_count": null,
      "outputs": []
    },
    {
      "cell_type": "markdown",
      "source": [
        "## 5. Class activation heatmap for image classification<a class=\"anchor\" id=\"5\"></a>\n",
        "### Grad-CAM class activation visualization\n",
        "*Code adapted from keras.io*"
      ],
      "metadata": {
        "id": "0lI4P52VbHFk"
      }
    },
    {
      "cell_type": "code",
      "source": [
        "import matplotlib.cm as cm\n",
        "\n",
        "def get_img_array(img_path, size):\n",
        "    img = tf.keras.preprocessing.image.load_img(img_path, target_size=size)\n",
        "    array = tf.keras.preprocessing.image.img_to_array(img)\n",
        "    # We add a dimension to transform our array into a \"batch\"\n",
        "    # of size \"size\"\n",
        "    array = np.expand_dims(array, axis=0)\n",
        "    return array\n",
        "\n",
        "def make_gradcam_heatmap(img_array, model, last_conv_layer_name, pred_index=None):\n",
        "    # First, we create a model that maps the input image to the activations\n",
        "    # of the last conv layer as well as the output predictions\n",
        "    grad_model = tf.keras.models.Model(\n",
        "        [model.inputs], [model.get_layer(last_conv_layer_name).output, model.output]\n",
        "    )\n",
        "\n",
        "    # Then, we compute the gradient of the top predicted class for our input image\n",
        "    # with respect to the activations of the last conv layer\n",
        "    with tf.GradientTape() as tape:\n",
        "        last_conv_layer_output, preds = grad_model(img_array)\n",
        "        if pred_index is None:\n",
        "            pred_index = tf.argmax(preds[0])\n",
        "        class_channel = preds[:, pred_index]\n",
        "\n",
        "    # This is the gradient of the output neuron (top predicted or chosen)\n",
        "    # with regard to the output feature map of the last conv layer\n",
        "    grads = tape.gradient(class_channel, last_conv_layer_output)\n",
        "\n",
        "    # This is a vector where each entry is the mean intensity of the gradient\n",
        "    # over a specific feature map channel\n",
        "    pooled_grads = tf.reduce_mean(grads, axis=(0, 1, 2))\n",
        "\n",
        "    # We multiply each channel in the feature map array\n",
        "    # by \"how important this channel is\" with regard to the top predicted class\n",
        "    # then sum all the channels to obtain the heatmap class activation\n",
        "    last_conv_layer_output = last_conv_layer_output[0]\n",
        "    heatmap = last_conv_layer_output @ pooled_grads[..., tf.newaxis]\n",
        "    heatmap = tf.squeeze(heatmap)\n",
        "\n",
        "    # For visualization purpose, we will also normalize the heatmap between 0 & 1\n",
        "    heatmap = tf.maximum(heatmap, 0) / tf.math.reduce_max(heatmap)\n",
        "    return heatmap.numpy()\n",
        "\n",
        "def save_and_display_gradcam(img_path, heatmap, cam_path=\"cam.jpg\", alpha=0.4):\n",
        "    # Load the original image\n",
        "    img = tf.keras.preprocessing.image.load_img(img_path)\n",
        "    img = tf.keras.preprocessing.image.img_to_array(img)\n",
        "\n",
        "    # Rescale heatmap to a range 0-255\n",
        "    heatmap = np.uint8(255 * heatmap)\n",
        "\n",
        "    # Use jet colormap to colorize heatmap\n",
        "    jet = cm.get_cmap(\"jet\")\n",
        "\n",
        "    # Use RGB values of the colormap\n",
        "    jet_colors = jet(np.arange(256))[:, :3]\n",
        "    jet_heatmap = jet_colors[heatmap]\n",
        "\n",
        "    # Create an image with RGB colorized heatmap\n",
        "    jet_heatmap = tf.keras.preprocessing.image.array_to_img(jet_heatmap)\n",
        "    jet_heatmap = jet_heatmap.resize((img.shape[1], img.shape[0]))\n",
        "    jet_heatmap = tf.keras.preprocessing.image.img_to_array(jet_heatmap)\n",
        "\n",
        "    # Superimpose the heatmap on original image\n",
        "    superimposed_img = jet_heatmap * alpha + img\n",
        "    superimposed_img = tf.keras.preprocessing.image.array_to_img(superimposed_img)\n",
        "\n",
        "    # Save the superimposed image\n",
        "    superimposed_img.save(cam_path)\n",
        "\n",
        "    # Display Grad CAM\n",
        "#     display(Image(cam_path))\n",
        "\n",
        "    return cam_path\n",
        "\n",
        "preprocess_input = tf.keras.applications.mobilenet_v2.preprocess_input\n",
        "decode_predictions = tf.keras.applications.mobilenet_v2.decode_predictions\n",
        "\n",
        "last_conv_layer_name = \"Conv_1\"\n",
        "img_size = (224,224)\n",
        "\n",
        "# Remove last layer's softmax\n",
        "model.layers[-1].ativation = None"
      ],
      "metadata": {
        "execution": {
          "iopub.status.busy": "2022-10-19T03:06:10.955518Z",
          "iopub.execute_input": "2022-10-19T03:06:10.956033Z",
          "iopub.status.idle": "2022-10-19T03:06:10.973128Z",
          "shell.execute_reply.started": "2022-10-19T03:06:10.955995Z",
          "shell.execute_reply": "2022-10-19T03:06:10.972385Z"
        },
        "trusted": true,
        "id": "J2aEnP0wbHFl"
      },
      "execution_count": null,
      "outputs": []
    },
    {
      "cell_type": "code",
      "source": [
        "# Display the part of the pictures used by the neural network to classify the pictures\n",
        "fig, axes = plt.subplots(nrows=3, ncols=3, figsize=(15, 15),\n",
        "                        subplot_kw={'xticks': [], 'yticks': []})\n",
        "\n",
        "for i, ax in enumerate(axes.flat):\n",
        "    img_path = test_df.Filepath.iloc[i]\n",
        "    img_array = preprocess_input(get_img_array(img_path, size=img_size))\n",
        "    heatmap = make_gradcam_heatmap(img_array, model, last_conv_layer_name)\n",
        "    cam_path = save_and_display_gradcam(img_path, heatmap)\n",
        "    ax.imshow(plt.imread(cam_path))\n",
        "    ax.set_title(f\"True: {test_df.Label.iloc[i]}\\nPredicted: {pred[i]}\")\n",
        "plt.tight_layout()\n",
        "plt.show()"
      ],
      "metadata": {
        "execution": {
          "iopub.status.busy": "2022-10-19T03:06:10.974719Z",
          "iopub.execute_input": "2022-10-19T03:06:10.975451Z",
          "iopub.status.idle": "2022-10-19T03:06:19.739626Z",
          "shell.execute_reply.started": "2022-10-19T03:06:10.975406Z",
          "shell.execute_reply": "2022-10-19T03:06:19.738596Z"
        },
        "trusted": true,
        "id": "cGzNdgdhbHFm"
      },
      "execution_count": null,
      "outputs": []
    },
    {
      "cell_type": "code",
      "source": [
        "def output(location):\n",
        "    from tensorflow.keras.preprocessing.image import load_img,img_to_array\n",
        "    img=load_img(location,target_size=(224,224,3))\n",
        "    img=img_to_array(img)\n",
        "    img=img/255\n",
        "    img=np.expand_dims(img,[0])\n",
        "    answer=model.predict(img)\n",
        "    y_class = answer.argmax(axis=-1)\n",
        "    y = \" \".join(str(x) for x in y_class)\n",
        "    y = int(y)\n",
        "    res = labels[y]\n",
        "    return res"
      ],
      "metadata": {
        "execution": {
          "iopub.status.busy": "2022-10-19T03:06:19.741242Z",
          "iopub.execute_input": "2022-10-19T03:06:19.741606Z",
          "iopub.status.idle": "2022-10-19T03:06:19.75763Z",
          "shell.execute_reply.started": "2022-10-19T03:06:19.741568Z",
          "shell.execute_reply": "2022-10-19T03:06:19.756573Z"
        },
        "trusted": true,
        "id": "4_SfWG6gbHFm"
      },
      "execution_count": null,
      "outputs": []
    },
    {
      "cell_type": "code",
      "source": [
        "from IPython.display import display\n",
        "from PIL import Image\n",
        "\n",
        "location = '../input/fruit-and-vegetable-image-recognition/test/cabbage/Image_1.jpg'\n",
        "display(Image.open(location))\n"
      ],
      "metadata": {
        "execution": {
          "iopub.status.busy": "2022-10-19T03:06:19.759Z",
          "iopub.execute_input": "2022-10-19T03:06:19.759313Z",
          "iopub.status.idle": "2022-10-19T03:06:20.223245Z",
          "shell.execute_reply.started": "2022-10-19T03:06:19.759281Z",
          "shell.execute_reply": "2022-10-19T03:06:20.219662Z"
        },
        "trusted": true,
        "id": "adHj0fyUbHFn"
      },
      "execution_count": null,
      "outputs": []
    },
    {
      "cell_type": "code",
      "source": [
        "img = output(location)\n",
        "img"
      ],
      "metadata": {
        "execution": {
          "iopub.status.busy": "2022-10-19T03:06:20.225327Z",
          "iopub.execute_input": "2022-10-19T03:06:20.225874Z",
          "iopub.status.idle": "2022-10-19T03:06:21.021476Z",
          "shell.execute_reply.started": "2022-10-19T03:06:20.225835Z",
          "shell.execute_reply": "2022-10-19T03:06:21.0207Z"
        },
        "trusted": true,
        "id": "Q8Q_nlNsbHFn"
      },
      "execution_count": null,
      "outputs": []
    },
    {
      "cell_type": "code",
      "source": [
        "model.save('FruitModel.h5')"
      ],
      "metadata": {
        "execution": {
          "iopub.status.busy": "2022-10-19T03:06:21.023454Z",
          "iopub.execute_input": "2022-10-19T03:06:21.024025Z",
          "iopub.status.idle": "2022-10-19T03:06:21.284379Z",
          "shell.execute_reply.started": "2022-10-19T03:06:21.023985Z",
          "shell.execute_reply": "2022-10-19T03:06:21.283602Z"
        },
        "trusted": true,
        "id": "dlGtGi-1bHFn"
      },
      "execution_count": null,
      "outputs": []
    },
    {
      "cell_type": "code",
      "source": [],
      "metadata": {
        "id": "ZQKS8soWbHFo"
      },
      "execution_count": null,
      "outputs": []
    },
    {
      "cell_type": "markdown",
      "source": [
        "# 6 Deploy the Model"
      ],
      "metadata": {
        "id": "JgmRXGpGbHFo"
      }
    },
    {
      "cell_type": "code",
      "source": [],
      "metadata": {
        "id": "vOm625PybHFo"
      },
      "execution_count": null,
      "outputs": []
    }
  ]
}